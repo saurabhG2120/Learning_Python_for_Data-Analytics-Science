{
 "cells": [
  {
   "cell_type": "markdown",
   "id": "9ab4c42f",
   "metadata": {},
   "source": [
    "##Day2"
   ]
  },
  {
   "cell_type": "code",
   "execution_count": 19,
   "id": "9e8ea3d7",
   "metadata": {},
   "outputs": [],
   "source": [
    "name=\"Saurabh\"\n",
    "surname=\"Gavali\""
   ]
  },
  {
   "cell_type": "code",
   "execution_count": 9,
   "id": "13f77881",
   "metadata": {},
   "outputs": [
    {
     "name": "stdout",
     "output_type": "stream",
     "text": [
      "Saurabh\n"
     ]
    }
   ],
   "source": [
    "print(name)"
   ]
  },
  {
   "cell_type": "code",
   "execution_count": 21,
   "id": "c906920c",
   "metadata": {},
   "outputs": [
    {
     "name": "stdout",
     "output_type": "stream",
     "text": [
      "welcome Saurabh Gavali to the python\n"
     ]
    }
   ],
   "source": [
    "print(\"welcome {} {} to the python\".format(name,surname))"
   ]
  },
  {
   "cell_type": "code",
   "execution_count": 16,
   "id": "6c51b806",
   "metadata": {},
   "outputs": [
    {
     "data": {
      "text/plain": [
       "'Saur'"
      ]
     },
     "execution_count": 16,
     "metadata": {},
     "output_type": "execute_result"
    }
   ],
   "source": [
    "name[0:4]"
   ]
  },
  {
   "cell_type": "code",
   "execution_count": 22,
   "id": "e3537be7",
   "metadata": {},
   "outputs": [
    {
     "name": "stdout",
     "output_type": "stream",
     "text": [
      "value of pi= 3.142857142857143\n"
     ]
    }
   ],
   "source": [
    "print(\"value of pi=\",(22/7))"
   ]
  },
  {
   "cell_type": "code",
   "execution_count": 23,
   "id": "371e70e6",
   "metadata": {},
   "outputs": [
    {
     "name": "stdout",
     "output_type": "stream",
     "text": [
      "welcome Gavali Saurabh to the python\n"
     ]
    }
   ],
   "source": [
    "print(\"welcome {1} {0} to the python\".format(name,surname))"
   ]
  },
  {
   "cell_type": "code",
   "execution_count": 29,
   "id": "1e52f2ba",
   "metadata": {},
   "outputs": [
    {
     "name": "stdout",
     "output_type": "stream",
     "text": [
      "enter a number62\n",
      "enter a number55\n",
      "the sum of 62 and 55 is 117\n"
     ]
    }
   ],
   "source": [
    "a=int(input(\"enter a number\"))\n",
    "b=int(input(\"enter a number\"))\n",
    "print(\"the sum of {0} and {1} is\" .format(a,b),a+b)"
   ]
  },
  {
   "cell_type": "code",
   "execution_count": 32,
   "id": "507b8893",
   "metadata": {},
   "outputs": [
    {
     "name": "stdout",
     "output_type": "stream",
     "text": [
      "enter name:saurabh\n",
      "enter age:23\n",
      "enter address:mumbai\n",
      "my name is saurabh and age is 23 and i am from mumbai\n"
     ]
    }
   ],
   "source": [
    "name=input(\"enter name:\")\n",
    "age=int(input(\"enter age:\"))\n",
    "add=input(\"enter address:\")\n",
    "print(\"my name is {} and age is {} and i am from {}\".format(name,age,add))"
   ]
  },
  {
   "cell_type": "code",
   "execution_count": 33,
   "id": "4ebb8715",
   "metadata": {},
   "outputs": [
    {
     "data": {
      "text/plain": [
       "int"
      ]
     },
     "execution_count": 33,
     "metadata": {},
     "output_type": "execute_result"
    }
   ],
   "source": [
    "type(age)"
   ]
  },
  {
   "cell_type": "code",
   "execution_count": 36,
   "id": "57b8214b",
   "metadata": {},
   "outputs": [
    {
     "name": "stdout",
     "output_type": "stream",
     "text": [
      "enter speed in km:60\n",
      "speed in km/hr 60\n",
      "speed in mph 37.28\n",
      "the speed in km is 60 and in mph 37.28\n"
     ]
    }
   ],
   "source": [
    "km=int(input(\"enter speed in km:\"))\n",
    "mph=round(0.6214*km,2)\n",
    "print(\"speed in km/hr\",km)\n",
    "print(\"speed in mph\",mph)\n",
    "\n",
    "print(\"the speed in km is {} and in mph {}\".format(km,mph))"
   ]
  },
  {
   "cell_type": "code",
   "execution_count": 43,
   "id": "221050b0",
   "metadata": {},
   "outputs": [
    {
     "ename": "SyntaxError",
     "evalue": "invalid syntax (1083640088.py, line 3)",
     "output_type": "error",
     "traceback": [
      "\u001b[1;36m  Input \u001b[1;32mIn [43]\u001b[1;36m\u001b[0m\n\u001b[1;33m    calendar.weekday(21.12.23)\u001b[0m\n\u001b[1;37m                          ^\u001b[0m\n\u001b[1;31mSyntaxError\u001b[0m\u001b[1;31m:\u001b[0m invalid syntax\n"
     ]
    }
   ],
   "source": [
    "import calendar\n",
    "calendar.weekheader?\n",
    "calendar.weekday(21.12.23)"
   ]
  },
  {
   "cell_type": "code",
   "execution_count": 44,
   "id": "2807bf1f",
   "metadata": {},
   "outputs": [
    {
     "ename": "NameError",
     "evalue": "name 'calendar' is not defined",
     "output_type": "error",
     "traceback": [
      "\u001b[1;31m---------------------------------------------------------------------------\u001b[0m",
      "\u001b[1;31mNameError\u001b[0m                                 Traceback (most recent call last)",
      "Input \u001b[1;32mIn [44]\u001b[0m, in \u001b[0;36m<cell line: 1>\u001b[1;34m()\u001b[0m\n\u001b[1;32m----> 1\u001b[0m \u001b[38;5;28mdir\u001b[39m (\u001b[43mcalendar\u001b[49m)\n",
      "\u001b[1;31mNameError\u001b[0m: name 'calendar' is not defined"
     ]
    }
   ],
   "source": [
    "dir (calendar)"
   ]
  },
  {
   "cell_type": "code",
   "execution_count": 46,
   "id": "279f7325",
   "metadata": {},
   "outputs": [
    {
     "name": "stdout",
     "output_type": "stream",
     "text": [
      "enter 1 st integer10\n",
      "enter 2 nd integer20\n",
      "the sum of two integer 30 and multiplication of tow int is200)\n"
     ]
    }
   ],
   "source": [
    "a=int(input(\"enter 1 st integer\"))\n",
    "b=int(input(\"enter 2 nd integer\"))\n",
    "print(\"the sum of two integer {} and multiplication of tow int is{})\".format(a+b,a*b))"
   ]
  },
  {
   "cell_type": "code",
   "execution_count": null,
   "id": "eb88165f",
   "metadata": {},
   "outputs": [],
   "source": []
  },
  {
   "cell_type": "code",
   "execution_count": null,
   "id": "801fcdbe",
   "metadata": {},
   "outputs": [],
   "source": []
  }
 ],
 "metadata": {
  "kernelspec": {
   "display_name": "Python 3 (ipykernel)",
   "language": "python",
   "name": "python3"
  },
  "language_info": {
   "codemirror_mode": {
    "name": "ipython",
    "version": 3
   },
   "file_extension": ".py",
   "mimetype": "text/x-python",
   "name": "python",
   "nbconvert_exporter": "python",
   "pygments_lexer": "ipython3",
   "version": "3.9.12"
  }
 },
 "nbformat": 4,
 "nbformat_minor": 5
}
