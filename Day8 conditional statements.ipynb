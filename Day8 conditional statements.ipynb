{
 "cells": [
  {
   "cell_type": "code",
   "execution_count": 1,
   "id": "f6a9f228",
   "metadata": {},
   "outputs": [],
   "source": [
    "my_list = [1, 2, 3,4,5,6,7,8,9]\n"
   ]
  },
  {
   "cell_type": "code",
   "execution_count": 2,
   "id": "a549a2c2",
   "metadata": {},
   "outputs": [
    {
     "data": {
      "text/plain": [
       "[1, 3, 5, 7]"
      ]
     },
     "execution_count": 2,
     "metadata": {},
     "output_type": "execute_result"
    }
   ],
   "source": [
    "a=list(range(1,8,2))\n",
    "a"
   ]
  },
  {
   "cell_type": "code",
   "execution_count": 3,
   "id": "cf7317cf",
   "metadata": {},
   "outputs": [
    {
     "name": "stdout",
     "output_type": "stream",
     "text": [
      "1\n",
      "2\n",
      "3\n",
      "4\n",
      "5\n",
      "6\n",
      "7\n",
      "8\n",
      "9\n"
     ]
    }
   ],
   "source": [
    "for i in my_list:\n",
    "    print(i)"
   ]
  },
  {
   "cell_type": "code",
   "execution_count": 4,
   "id": "551f00fa",
   "metadata": {},
   "outputs": [
    {
     "name": "stdout",
     "output_type": "stream",
     "text": [
      "s\n",
      "a\n",
      "u\n",
      "r\n",
      "a\n",
      "b\n",
      "h\n"
     ]
    }
   ],
   "source": [
    "for i in \"saurabh\":\n",
    "    print(i)"
   ]
  },
  {
   "cell_type": "code",
   "execution_count": 5,
   "id": "a8aba60c",
   "metadata": {},
   "outputs": [
    {
     "name": "stdout",
     "output_type": "stream",
     "text": [
      "saurabh\n",
      "sid\n"
     ]
    }
   ],
   "source": [
    "for i in (\"saurabh\",\"sid\"):\n",
    "    print(i)"
   ]
  },
  {
   "cell_type": "code",
   "execution_count": null,
   "id": "eaff619b",
   "metadata": {},
   "outputs": [],
   "source": [
    "start=int(input(\"enter start num\"))\n",
    "stop=int(input(\"enter stop num\"))\n",
    "for i in range(start,stop+1):\n",
    "    if i%2!=0:\n",
    "        print(i)"
   ]
  },
  {
   "cell_type": "code",
   "execution_count": null,
   "id": "5b7ac0b1",
   "metadata": {},
   "outputs": [],
   "source": [
    "my_list"
   ]
  },
  {
   "cell_type": "code",
   "execution_count": null,
   "id": "bcd77edd",
   "metadata": {},
   "outputs": [],
   "source": [
    "for i in my_list:\n",
    "    print(i)\n",
    "    print('hello')\n",
    "print(\"saurabh\")"
   ]
  },
  {
   "cell_type": "code",
   "execution_count": null,
   "id": "cea1b13d",
   "metadata": {},
   "outputs": [],
   "source": [
    "my_list=['apple','banana','mango','watermelon']"
   ]
  },
  {
   "cell_type": "code",
   "execution_count": null,
   "id": "a0404e0b",
   "metadata": {},
   "outputs": [],
   "source": [
    "for i in my_list:\n",
    "    print(i)"
   ]
  },
  {
   "cell_type": "code",
   "execution_count": null,
   "id": "bffef092",
   "metadata": {},
   "outputs": [],
   "source": [
    "for i in \"mango\":\n",
    "    print(i)"
   ]
  },
  {
   "cell_type": "code",
   "execution_count": null,
   "id": "1fda734c",
   "metadata": {},
   "outputs": [],
   "source": [
    "bal=[10,20,30,40,50]\n",
    "bal"
   ]
  },
  {
   "cell_type": "code",
   "execution_count": null,
   "id": "51313b97",
   "metadata": {},
   "outputs": [],
   "source": [
    "acc=0\n",
    "for i in bal:\n",
    "    acc=acc+i\n",
    "print(acc)"
   ]
  },
  {
   "cell_type": "code",
   "execution_count": null,
   "id": "1e0ddd08",
   "metadata": {},
   "outputs": [],
   "source": [
    "multiply_num=1\n",
    "for i in bal:\n",
    "    multiply_num=multiply_num * i\n",
    "print(multiply_num)"
   ]
  },
  {
   "cell_type": "code",
   "execution_count": null,
   "id": "01ae9260",
   "metadata": {},
   "outputs": [],
   "source": [
    "a=zip(my_list,bal)"
   ]
  },
  {
   "cell_type": "code",
   "execution_count": null,
   "id": "4e9a41f0",
   "metadata": {},
   "outputs": [],
   "source": [
    "a"
   ]
  },
  {
   "cell_type": "code",
   "execution_count": null,
   "id": "2a4d208c",
   "metadata": {},
   "outputs": [],
   "source": [
    "print(a)"
   ]
  },
  {
   "cell_type": "code",
   "execution_count": null,
   "id": "864429cc",
   "metadata": {},
   "outputs": [],
   "source": [
    "a=list(range(1,10+1))\n",
    "b=list(range(11,20))\n",
    "c=list(range(21,30))"
   ]
  },
  {
   "cell_type": "code",
   "execution_count": null,
   "id": "30528bc1",
   "metadata": {},
   "outputs": [],
   "source": [
    "a\n",
    "b\n",
    "c"
   ]
  },
  {
   "cell_type": "code",
   "execution_count": null,
   "id": "6a25da53",
   "metadata": {},
   "outputs": [],
   "source": [
    "print(a,b,c)"
   ]
  },
  {
   "cell_type": "code",
   "execution_count": null,
   "id": "8da427ae",
   "metadata": {},
   "outputs": [],
   "source": [
    "for i,j,k in zip(a,b,c):\n",
    "    print(i,j,k)\n",
    "    print(i+j+k)"
   ]
  },
  {
   "cell_type": "markdown",
   "id": "11f40303",
   "metadata": {},
   "source": [
    "enumerate"
   ]
  },
  {
   "cell_type": "code",
   "execution_count": null,
   "id": "9aae754a",
   "metadata": {},
   "outputs": [],
   "source": [
    "a,b=(0,\"saurabh\")"
   ]
  },
  {
   "cell_type": "code",
   "execution_count": null,
   "id": "da4bb694",
   "metadata": {},
   "outputs": [],
   "source": [
    "a\n"
   ]
  },
  {
   "cell_type": "code",
   "execution_count": null,
   "id": "682c0d24",
   "metadata": {},
   "outputs": [],
   "source": [
    "b"
   ]
  },
  {
   "cell_type": "code",
   "execution_count": null,
   "id": "10cdd5e2",
   "metadata": {},
   "outputs": [],
   "source": [
    "my_list = ['apple', 'blueberries', 'mango', 'watermelon', 'apricots']\n"
   ]
  },
  {
   "cell_type": "code",
   "execution_count": null,
   "id": "98feb733",
   "metadata": {},
   "outputs": [],
   "source": [
    "for i in enumerate(my_list):\n",
    "    print(i)"
   ]
  },
  {
   "cell_type": "code",
   "execution_count": null,
   "id": "fde2bdc1",
   "metadata": {},
   "outputs": [],
   "source": [
    "for i,j in enumerate(my_list):\n",
    "    print(i,j)"
   ]
  },
  {
   "cell_type": "code",
   "execution_count": null,
   "id": "dd2e0fd4",
   "metadata": {},
   "outputs": [],
   "source": [
    "a=list(range(1,10+1))\n",
    "b=list(range(11,20))\n",
    "c=list(range(21,30))"
   ]
  },
  {
   "cell_type": "code",
   "execution_count": null,
   "id": "855d2739",
   "metadata": {},
   "outputs": [],
   "source": [
    "print(a,b,c)"
   ]
  },
  {
   "cell_type": "code",
   "execution_count": null,
   "id": "fb49f630",
   "metadata": {},
   "outputs": [],
   "source": [
    "for i,j,k in zip(a,b,c):\n",
    "    print(i,j,k)\n",
    "    print(i+j+k)"
   ]
  },
  {
   "cell_type": "code",
   "execution_count": 2,
   "id": "2d53926e",
   "metadata": {},
   "outputs": [
    {
     "name": "stdout",
     "output_type": "stream",
     "text": [
      "enter a:5\n",
      "enter b:5\n",
      "enter c:5\n",
      "5 5 5\n",
      "555\n"
     ]
    }
   ],
   "source": [
    "a=input(\"enter a:\")\n",
    "b=input(\"enter b:\")\n",
    "c=input(\"enter c:\")\n",
    "for i,j,k in zip(a,b,c):\n",
    "    print(i,j,k)\n",
    "    print(i+j+k)"
   ]
  },
  {
   "cell_type": "code",
   "execution_count": null,
   "id": "3a0cadcf",
   "metadata": {},
   "outputs": [],
   "source": []
  },
  {
   "cell_type": "code",
   "execution_count": null,
   "id": "387f2148",
   "metadata": {},
   "outputs": [],
   "source": []
  }
 ],
 "metadata": {
  "kernelspec": {
   "display_name": "Python 3 (ipykernel)",
   "language": "python",
   "name": "python3"
  },
  "language_info": {
   "codemirror_mode": {
    "name": "ipython",
    "version": 3
   },
   "file_extension": ".py",
   "mimetype": "text/x-python",
   "name": "python",
   "nbconvert_exporter": "python",
   "pygments_lexer": "ipython3",
   "version": "3.9.12"
  }
 },
 "nbformat": 4,
 "nbformat_minor": 5
}
