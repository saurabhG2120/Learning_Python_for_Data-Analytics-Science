{
 "cells": [
  {
   "cell_type": "markdown",
   "id": "8c90010b",
   "metadata": {},
   "source": [
    "# filter"
   ]
  },
  {
   "cell_type": "code",
   "execution_count": null,
   "id": "ac8fdd82",
   "metadata": {},
   "outputs": [],
   "source": [
    "a=[10,20,30,40,50,60]"
   ]
  },
  {
   "cell_type": "code",
   "execution_count": null,
   "id": "4f02971e",
   "metadata": {},
   "outputs": [],
   "source": [
    "c=list(filter(lambda x:(x>20),a) )"
   ]
  },
  {
   "cell_type": "code",
   "execution_count": null,
   "id": "192d121c",
   "metadata": {},
   "outputs": [],
   "source": [
    "c"
   ]
  },
  {
   "cell_type": "code",
   "execution_count": null,
   "id": "ddab7023",
   "metadata": {},
   "outputs": [],
   "source": [
    "c=list(map(lambda x:(x>20),a))"
   ]
  },
  {
   "cell_type": "code",
   "execution_count": null,
   "id": "27b67987",
   "metadata": {},
   "outputs": [],
   "source": [
    "c"
   ]
  },
  {
   "cell_type": "markdown",
   "id": "f5b7e2fc",
   "metadata": {},
   "source": [
    "# reduce"
   ]
  },
  {
   "cell_type": "code",
   "execution_count": null,
   "id": "2c8f9b8d",
   "metadata": {},
   "outputs": [],
   "source": [
    "from functools import reduce\n",
    "z=reduce(lambda x,y:x+y,a)\n",
    "z"
   ]
  },
  {
   "cell_type": "code",
   "execution_count": null,
   "id": "b09b58c1",
   "metadata": {},
   "outputs": [],
   "source": [
    "list1=['s','a','u','r','a','b','h']"
   ]
  },
  {
   "cell_type": "code",
   "execution_count": null,
   "id": "ab405074",
   "metadata": {},
   "outputs": [],
   "source": [
    "reduced=reduce(lambda x,y:(x+y),list1)\n",
    "reduced"
   ]
  },
  {
   "cell_type": "code",
   "execution_count": null,
   "id": "c6f8e775",
   "metadata": {},
   "outputs": [],
   "source": [
    "reduced=reduce(lambda x,y:(x+y),list1)\n",
    "reduced"
   ]
  },
  {
   "cell_type": "code",
   "execution_count": null,
   "id": "1b10eec2",
   "metadata": {},
   "outputs": [],
   "source": [
    "from functools import reduce\n",
    "z=reduce(lambda x,y:x/y,a)\n",
    "z"
   ]
  },
  {
   "cell_type": "code",
   "execution_count": null,
   "id": "055fdd6f",
   "metadata": {},
   "outputs": [],
   "source": [
    "from functools import reduce\n",
    "z=reduce(lambda x,y:x*y,a)\n",
    "z"
   ]
  },
  {
   "cell_type": "markdown",
   "id": "7ef4ae87",
   "metadata": {},
   "source": [
    "# Q. WRITE A FUNCTION THAT TAKES 2 VARIABLES FROM THE USER AND OBTAIN THE SUMMATION AND MULTIPLICATION, THEN TEST THE FUNCTION BY TAKING AN INPUT FROM A USER (REPEAT USING LAMBDA EXPRESSIONS)"
   ]
  },
  {
   "cell_type": "code",
   "execution_count": null,
   "id": "3d904db9",
   "metadata": {},
   "outputs": [],
   "source": [
    "def sumnmul():\n",
    "    a=int(input('enter number a:'))\n",
    "    b=int(input('enter number b:'))\n",
    "    sum1=(a+b)\n",
    "    mul=(a*b)\n",
    "    print('sum:',sum1)\n",
    "    print('multiplication:',mul)\n",
    "    sum"
   ]
  },
  {
   "cell_type": "code",
   "execution_count": null,
   "id": "555fea1d",
   "metadata": {},
   "outputs": [],
   "source": [
    "sumnmul()"
   ]
  },
  {
   "cell_type": "code",
   "execution_count": null,
   "id": "2776cda4",
   "metadata": {},
   "outputs": [],
   "source": [
    "p=int(input('enter number a:'))\n",
    "q=int(input('enter number b:'))\n",
    "sum1=lambda x,y: x+y\n",
    "mul=lambda x,y: x*y\n",
    "print('addation ={} \\n multiplication ={}'.format(sum1(p,q),mul(p,q)))"
   ]
  },
  {
   "cell_type": "code",
   "execution_count": null,
   "id": "88709318",
   "metadata": {},
   "outputs": [],
   "source": [
    "float(sum1(10.20,20))"
   ]
  },
  {
   "cell_type": "code",
   "execution_count": null,
   "id": "072fa35a",
   "metadata": {},
   "outputs": [],
   "source": []
  },
  {
   "cell_type": "code",
   "execution_count": null,
   "id": "d64f25cb",
   "metadata": {},
   "outputs": [],
   "source": [
    "int(mul(10,20))"
   ]
  },
  {
   "cell_type": "code",
   "execution_count": null,
   "id": "70bdff0f",
   "metadata": {},
   "outputs": [],
   "source": [
    "sum1(5,6)"
   ]
  },
  {
   "cell_type": "code",
   "execution_count": null,
   "id": "7f024cd5",
   "metadata": {},
   "outputs": [],
   "source": [
    "sum1=lambda x,y: x+y"
   ]
  },
  {
   "cell_type": "code",
   "execution_count": 5,
   "id": "ea72757d",
   "metadata": {},
   "outputs": [],
   "source": [
    "def sqr(x):\n",
    "    return x*x"
   ]
  },
  {
   "cell_type": "code",
   "execution_count": 6,
   "id": "83dab006",
   "metadata": {},
   "outputs": [
    {
     "data": {
      "text/plain": [
       "25"
      ]
     },
     "execution_count": 6,
     "metadata": {},
     "output_type": "execute_result"
    }
   ],
   "source": [
    "sqr(5)"
   ]
  },
  {
   "cell_type": "code",
   "execution_count": 10,
   "id": "0e37ec4f",
   "metadata": {},
   "outputs": [
    {
     "name": "stdout",
     "output_type": "stream",
     "text": [
      "[400, 361, 324, 289, 256, 225, 196, 169, 144, 121, 100, 81, 64, 49, 36, 25, 16, 9, 4, 1, 0, 1, 4, 9, 16, 25, 36, 49, 64, 81, 100, 121, 144, 169, 196, 225, 256, 289, 324, 361]\n"
     ]
    }
   ],
   "source": [
    "a=range(-20,20)\n",
    "num_sqrd=list(map(lambda x: sqr(x),a))\n",
    "print(num_sqrd)"
   ]
  },
  {
   "cell_type": "code",
   "execution_count": null,
   "id": "0d14ff5e",
   "metadata": {},
   "outputs": [],
   "source": []
  }
 ],
 "metadata": {
  "kernelspec": {
   "display_name": "Python 3 (ipykernel)",
   "language": "python",
   "name": "python3"
  },
  "language_info": {
   "codemirror_mode": {
    "name": "ipython",
    "version": 3
   },
   "file_extension": ".py",
   "mimetype": "text/x-python",
   "name": "python",
   "nbconvert_exporter": "python",
   "pygments_lexer": "ipython3",
   "version": "3.9.12"
  }
 },
 "nbformat": 4,
 "nbformat_minor": 5
}
