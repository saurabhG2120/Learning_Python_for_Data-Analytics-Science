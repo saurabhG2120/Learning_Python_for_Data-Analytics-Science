{
 "cells": [
  {
   "cell_type": "code",
   "execution_count": 1,
   "id": "35790bc2",
   "metadata": {},
   "outputs": [],
   "source": [
    "text = \"\"\"\n",
    "This is a sample text with +91-8888888890 some email addresses.\n",
    "You can shru@gmail.com reach % me at john.doe@example.com or jane_smith1234@email.co.uk.\n",
    "Please +91-9000000000 contact support@example.org for assistance.,saurabh@hotmail.com\n",
    "\"\"\""
   ]
  },
  {
   "cell_type": "code",
   "execution_count": 2,
   "id": "17c18afb",
   "metadata": {},
   "outputs": [],
   "source": [
    "import re\n",
    "\n"
   ]
  },
  {
   "cell_type": "code",
   "execution_count": 3,
   "id": "1d7a2954",
   "metadata": {},
   "outputs": [],
   "source": [
    "emailpattern=r\"^([a-zA-Z0-9_\\-\\.]+)@([a-zA-Z0-9_\\-\\.]+)\\.([a-zA-Z]{2,4})$\""
   ]
  },
  {
   "cell_type": "code",
   "execution_count": 4,
   "id": "3effce8f",
   "metadata": {},
   "outputs": [],
   "source": [
    "eadd=re.findall(emailpattern,text)\n",
    "for email in eadd:\n",
    "    print(email)"
   ]
  },
  {
   "cell_type": "code",
   "execution_count": 9,
   "id": "a819a13c",
   "metadata": {},
   "outputs": [],
   "source": [
    "import re\n",
    "string=\"\"\"\"\n",
    "This is a sample text with +91-8888888890 some email addresses.\n",
    "You can shru@gmail.com reach % me at john.doe@example.com or jane_smith1234@email.co.uk.\n",
    "Please +91-9000000000 contact support@example.org for assistance.,saurabh@hotmail.com\n",
    "\"\"\"\n",
    "def find_email_pattern(string):\n",
    "  \"\"\"\n",
    "  Finds all email addresses in a string using a regular expression.\n",
    "\n",
    "  Args:\n",
    "    string: The string to search.\n",
    "\n",
    "  Returns:\n",
    "    A list of all email addresses found in the string.\n",
    "  \"\"\"\n",
    "\n",
    "  email_regex = re.compile(r'^[a-zA-Z0-9_\\-\\.]+@[a-zA-Z0-9_\\-\\.]+\\.[a-zA-Z]{2,4}$')\n",
    "  return email_regex.findall(string)\n"
   ]
  },
  {
   "cell_type": "code",
   "execution_count": 10,
   "id": "f0305809",
   "metadata": {},
   "outputs": [
    {
     "data": {
      "text/plain": [
       "[]"
      ]
     },
     "execution_count": 10,
     "metadata": {},
     "output_type": "execute_result"
    }
   ],
   "source": [
    "find_email_pattern(\"\"\"\"\n",
    "This is a sample text with +91-8888888890 some email addresses.\n",
    "You can shru@gmail.com reach % me at john.doe@example.com or jane_smith1234@email.co.uk.\n",
    "Please +91-9000000000 contact support@example.org for assistance.,saurabh@hotmail.com\n",
    "\"\"\")"
   ]
  },
  {
   "cell_type": "code",
   "execution_count": 11,
   "id": "23e437c5",
   "metadata": {},
   "outputs": [
    {
     "name": "stdout",
     "output_type": "stream",
     "text": [
      "shru@gmail.com\n",
      "john.doe@example.com\n",
      "jane_smith1234@email.co.uk\n",
      "support@example.org\n",
      "saurabh@hotmail.com\n"
     ]
    }
   ],
   "source": [
    "import re\n",
    "\n",
    "# Define a regular expression pattern to match email addresses\n",
    "email_pattern = r'\\b[A-Za-z0-9._%+-]+@[A-Za-z0-9.-]+\\.[A-Z|a-z]{2,7}\\b'\n",
    "\n",
    "# Sample text containing email addresses\n",
    "text = \"\"\"\"\n",
    "This is a sample text with +91-8888888890 some email addresses.\n",
    "You can shru@gmail.com reach % me at john.doe@example.com or jane_smith1234@email.co.uk.\n",
    "Please +91-9000000000 contact support@example.org for assistance.,saurabh@hotmail.com\n",
    "\"\"\"\n",
    "\n",
    "# Find all email addresses in the text\n",
    "email_addresses = re.findall(email_pattern, text)\n",
    "\n",
    "# Print the found email addresses\n",
    "for email in email_addresses:\n",
    "    print(email)"
   ]
  },
  {
   "cell_type": "code",
   "execution_count": 31,
   "id": "77caf267",
   "metadata": {},
   "outputs": [],
   "source": [
    "import re\n",
    "\n",
    "def use_regex(text):\n",
    "    epattern = re.compile(r\"[-A-Za-z0-9!#$%&'*+/=?^_`{|}~]+(?:\\.[-A-Za-z0-9!#$%&'*+/=?^_`{|}~]+)*@(?:[A-Za-z0-9](?:[-A-Za-z0-9]*[A-Za-z0-9])?\\.)+[A-Za-z0-9](?:[-A-Za-z0-9]*[A-Za-z0-9])?\", re.IGNORECASE)\n",
    "    ppattern=re.compile(r'\\b\\d{10}\\b')\n",
    "    print(epattern.findall(text),ppattern.findall(text))\n",
    "    \n",
    "    "
   ]
  },
  {
   "cell_type": "code",
   "execution_count": 32,
   "id": "cee644a0",
   "metadata": {},
   "outputs": [
    {
     "name": "stdout",
     "output_type": "stream",
     "text": [
      "['shru@gmail.com', 'john.doe@example.com', 'jane_smith1234@email.co.uk', 'support@example.org', 'saurabh@hotmail.com'] ['8888888890', '9000000000']\n"
     ]
    }
   ],
   "source": [
    "use_regex(text)"
   ]
  },
  {
   "cell_type": "code",
   "execution_count": null,
   "id": "3f8bb5a6",
   "metadata": {},
   "outputs": [],
   "source": []
  }
 ],
 "metadata": {
  "kernelspec": {
   "display_name": "Python 3 (ipykernel)",
   "language": "python",
   "name": "python3"
  },
  "language_info": {
   "codemirror_mode": {
    "name": "ipython",
    "version": 3
   },
   "file_extension": ".py",
   "mimetype": "text/x-python",
   "name": "python",
   "nbconvert_exporter": "python",
   "pygments_lexer": "ipython3",
   "version": "3.9.12"
  }
 },
 "nbformat": 4,
 "nbformat_minor": 5
}
