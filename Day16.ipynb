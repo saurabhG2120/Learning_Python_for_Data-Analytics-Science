{
 "cells": [
  {
   "cell_type": "markdown",
   "id": "c47542b8",
   "metadata": {},
   "source": [
    "# TEXT FILES\n",
    "open() is the key function to handle files\n",
    "\n",
    "open() function takes two parameters; filename, and mode.\n",
    "\n",
    "Modes for files opening:\n",
    "\n",
    "\"r\" - Read - Default value. Opens a file for reading, error if the file does not exist\n",
    "\"a\" - Append - Opens a file for appending, creates the file if it does not exist\n",
    "\"w\" - Write - Opens a file for writing, creates the file if it does not exist\n",
    "\"x\" - Create - Creates the specified file, returns an error if the file exists\n",
    "files can be used in a binary or text mode\n",
    "\n",
    "\"t\" - Text - Default value. Text mode\n",
    "\"b\" - Binary - Binary mode (e.g. images)"
   ]
  },
  {
   "cell_type": "code",
   "execution_count": 15,
   "id": "4da3d409",
   "metadata": {},
   "outputs": [],
   "source": [
    "a=open(r'C:\\\\Users\\\\Admin\\\\Desktop\\\\Saurabh\\day16.txt','r')"
   ]
  },
  {
   "cell_type": "code",
   "execution_count": 16,
   "id": "9b17b784",
   "metadata": {},
   "outputs": [
    {
     "data": {
      "text/plain": [
       "'C:\\\\Users\\\\Admin\\\\Desktop\\\\Saurabh'"
      ]
     },
     "execution_count": 16,
     "metadata": {},
     "output_type": "execute_result"
    }
   ],
   "source": [
    "pwd"
   ]
  },
  {
   "cell_type": "code",
   "execution_count": 42,
   "id": "00829bb5",
   "metadata": {},
   "outputs": [
    {
     "data": {
      "text/plain": [
       "5"
      ]
     },
     "execution_count": 42,
     "metadata": {},
     "output_type": "execute_result"
    }
   ],
   "source": [
    "a=open(r'C:\\\\Users\\\\Admin\\\\Desktop\\\\Saurabh\\day16.txt','a')\n",
    "a.write(\"hello\")\n",
    "#a.close()"
   ]
  },
  {
   "cell_type": "code",
   "execution_count": 43,
   "id": "c422c636",
   "metadata": {},
   "outputs": [
    {
     "ename": "UnsupportedOperation",
     "evalue": "not readable",
     "output_type": "error",
     "traceback": [
      "\u001b[1;31m---------------------------------------------------------------------------\u001b[0m",
      "\u001b[1;31mUnsupportedOperation\u001b[0m                      Traceback (most recent call last)",
      "Input \u001b[1;32mIn [43]\u001b[0m, in \u001b[0;36m<cell line: 1>\u001b[1;34m()\u001b[0m\n\u001b[1;32m----> 1\u001b[0m \u001b[38;5;28mprint\u001b[39m(\u001b[43ma\u001b[49m\u001b[38;5;241;43m.\u001b[39;49m\u001b[43mread\u001b[49m\u001b[43m(\u001b[49m\u001b[43m)\u001b[49m)\n",
      "\u001b[1;31mUnsupportedOperation\u001b[0m: not readable"
     ]
    }
   ],
   "source": [
    "print(a.read())"
   ]
  },
  {
   "cell_type": "code",
   "execution_count": 47,
   "id": "5f41188e",
   "metadata": {},
   "outputs": [],
   "source": [
    "f=open(r'C:\\Users\\Admin\\Desktop\\Saurabh\\fileoperation.txt','r')"
   ]
  },
  {
   "cell_type": "code",
   "execution_count": 49,
   "id": "5a00237e",
   "metadata": {},
   "outputs": [
    {
     "name": "stdout",
     "output_type": "stream",
     "text": [
      "hey hellohey hello\n"
     ]
    }
   ],
   "source": [
    "#f.write(\"hey hello\")\n",
    "c=f.read()\n",
    "print(c)"
   ]
  },
  {
   "cell_type": "code",
   "execution_count": 51,
   "id": "d183cc30",
   "metadata": {},
   "outputs": [],
   "source": [
    "f.close()"
   ]
  },
  {
   "cell_type": "code",
   "execution_count": 52,
   "id": "3a1c9def",
   "metadata": {},
   "outputs": [
    {
     "data": {
      "text/plain": [
       "9"
      ]
     },
     "execution_count": 52,
     "metadata": {},
     "output_type": "execute_result"
    }
   ],
   "source": [
    "f=open(r'C:\\Users\\Admin\\Desktop\\Saurabh\\fileoperation.txt','a')\n",
    "f.write(\"\\n Saurabh\")"
   ]
  },
  {
   "cell_type": "code",
   "execution_count": 53,
   "id": "6059ad0a",
   "metadata": {},
   "outputs": [
    {
     "name": "stdout",
     "output_type": "stream",
     "text": [
      "hey hellohey hello\n",
      " Saurabh\n"
     ]
    }
   ],
   "source": [
    "f=open(r'C:\\Users\\Admin\\Desktop\\Saurabh\\fileoperation.txt','r')\n",
    "print(f.read())"
   ]
  },
  {
   "cell_type": "code",
   "execution_count": 54,
   "id": "88567406",
   "metadata": {},
   "outputs": [],
   "source": [
    "f.close()"
   ]
  },
  {
   "cell_type": "code",
   "execution_count": 55,
   "id": "8377784a",
   "metadata": {},
   "outputs": [
    {
     "name": "stdout",
     "output_type": "stream",
     "text": [
      "hey hellohey hello\n",
      "\n",
      " Saurabh\n"
     ]
    }
   ],
   "source": [
    "f=open(\"fileoperation.txt\",\"r\")\n",
    "for line in f:\n",
    "    print(line)"
   ]
  },
  {
   "cell_type": "code",
   "execution_count": 56,
   "id": "279207a5",
   "metadata": {},
   "outputs": [
    {
     "data": {
      "text/plain": [
       "['hey hellohey hello\\n', ' Saurabh']"
      ]
     },
     "execution_count": 56,
     "metadata": {},
     "output_type": "execute_result"
    }
   ],
   "source": [
    "with open(\"fileoperation.txt\",'r') as f:\n",
    "    test=f.readlines()\n",
    "test"
   ]
  },
  {
   "cell_type": "code",
   "execution_count": null,
   "id": "68fed6fd",
   "metadata": {},
   "outputs": [],
   "source": []
  },
  {
   "cell_type": "code",
   "execution_count": null,
   "id": "dc2e50ca",
   "metadata": {},
   "outputs": [],
   "source": []
  }
 ],
 "metadata": {
  "kernelspec": {
   "display_name": "Python 3 (ipykernel)",
   "language": "python",
   "name": "python3"
  },
  "language_info": {
   "codemirror_mode": {
    "name": "ipython",
    "version": 3
   },
   "file_extension": ".py",
   "mimetype": "text/x-python",
   "name": "python",
   "nbconvert_exporter": "python",
   "pygments_lexer": "ipython3",
   "version": "3.9.12"
  }
 },
 "nbformat": 4,
 "nbformat_minor": 5
}
