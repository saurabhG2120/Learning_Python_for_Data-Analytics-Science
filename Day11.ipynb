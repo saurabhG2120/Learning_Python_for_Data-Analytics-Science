{
 "cells": [
  {
   "cell_type": "markdown",
   "id": "c7ff124a",
   "metadata": {},
   "source": [
    "  Q.wra code that takes max and min limit from a user and print out  the even numer only with in provided range"
   ]
  },
  {
   "cell_type": "code",
   "execution_count": null,
   "id": "5917ad5b",
   "metadata": {},
   "outputs": [],
   "source": [
    "max=int(input(\"enter max number:\"))\n",
    "min=int(input(\"enter min number:\"))\n",
    "for i in range(min,max+1):\n",
    "    if i%2==0:\n",
    "        print(i)\n",
    "    "
   ]
  },
  {
   "cell_type": "markdown",
   "id": "93100518",
   "metadata": {},
   "source": [
    "Q.remove 'o' from string below"
   ]
  },
  {
   "cell_type": "code",
   "execution_count": null,
   "id": "4ac354ec",
   "metadata": {},
   "outputs": [],
   "source": [
    "str1='Hello World'\n",
    "str1"
   ]
  },
  {
   "cell_type": "code",
   "execution_count": null,
   "id": "d26c6408",
   "metadata": {},
   "outputs": [],
   "source": [
    "dir(str1)"
   ]
  },
  {
   "cell_type": "code",
   "execution_count": null,
   "id": "954cbd49",
   "metadata": {},
   "outputs": [],
   "source": [
    "str2=(str1.replace('o',''))"
   ]
  },
  {
   "cell_type": "code",
   "execution_count": null,
   "id": "f462c164",
   "metadata": {},
   "outputs": [],
   "source": [
    "str2"
   ]
  },
  {
   "cell_type": "code",
   "execution_count": null,
   "id": "a2a608ea",
   "metadata": {},
   "outputs": [],
   "source": [
    "for i in str1:\n",
    "    if i=='o':\n",
    "        continue\n",
    "    print(i)"
   ]
  },
  {
   "cell_type": "code",
   "execution_count": null,
   "id": "e656a3c7",
   "metadata": {},
   "outputs": [],
   "source": []
  },
  {
   "cell_type": "raw",
   "id": "7d7cb18e",
   "metadata": {},
   "source": [
    "Q.convert celcius to fernite using list comprehension"
   ]
  },
  {
   "cell_type": "code",
   "execution_count": null,
   "id": "17ee3add",
   "metadata": {},
   "outputs": [],
   "source": [
    "\n",
    "temp_c=(input('enter temp in celcius'))\n",
    "a=temp_c.split()\n",
    "temp_f=[(9/5*float(i)+32) for i in a]    \n",
    "a,temp_f"
   ]
  },
  {
   "cell_type": "code",
   "execution_count": null,
   "id": "786edb67",
   "metadata": {},
   "outputs": [],
   "source": [
    "type(a)"
   ]
  },
  {
   "cell_type": "code",
   "execution_count": null,
   "id": "532dd7ea",
   "metadata": {},
   "outputs": [],
   "source": [
    "print('Enter a list of temperatures in degC separated by a space:')\n",
    "Temp_C = [int(x)                for x in input().split() ]\n",
    "\n",
    " \n",
    "\n",
    "Temp_F = [ ((float(9)/5)*i + 32)        for i in Temp_C            ]\n",
    "print('Temperatures are degC Vs. Fehrenheit:\\n', Temp_C, Temp_F)"
   ]
  },
  {
   "cell_type": "markdown",
   "id": "f0658770",
   "metadata": {},
   "source": [
    "CREATE A PASSWORD GENERATOR THAT TAKES THE REQUIRED PASSWORD LENGTH FROM THE USER AND GENERATE A PASSWORD. THE PASSWORD SHOULD BE A MIX OF CHARACTERS, NUMBERS AND SPECIAL CHARACTERS\n"
   ]
  },
  {
   "cell_type": "code",
   "execution_count": null,
   "id": "b09e463f",
   "metadata": {},
   "outputs": [],
   "source": [
    "import string\n",
    "import random\n",
    "a=string.ascii_letters+string.punctuation+string.digits\n",
    "length=int(input('enter legth of password required min 8:'))\n",
    "password=''\n",
    "if length>=8 :\n",
    "    for i in range( 0,length):\n",
    "        password=password+random.choice(a)\n",
    "    print(password)\n",
    "    "
   ]
  },
  {
   "cell_type": "code",
   "execution_count": null,
   "id": "70ea1f6d",
   "metadata": {},
   "outputs": [],
   "source": [
    "type(password)"
   ]
  },
  {
   "cell_type": "markdown",
   "id": "44b069eb",
   "metadata": {},
   "source": [
    "WRITE A CODE THAT TAKES STRING FROM A USER AND SORT THE WORDS AND PRINT ALL WORDS"
   ]
  },
  {
   "cell_type": "code",
   "execution_count": 5,
   "id": "17ceda99",
   "metadata": {},
   "outputs": [
    {
     "name": "stdout",
     "output_type": "stream",
     "text": [
      "enter wordssau ash\n"
     ]
    },
    {
     "ename": "AttributeError",
     "evalue": "'str' object has no attribute 'sorted'",
     "output_type": "error",
     "traceback": [
      "\u001b[1;31m---------------------------------------------------------------------------\u001b[0m",
      "\u001b[1;31mAttributeError\u001b[0m                            Traceback (most recent call last)",
      "Input \u001b[1;32mIn [5]\u001b[0m, in \u001b[0;36m<cell line: 2>\u001b[1;34m()\u001b[0m\n\u001b[0;32m      1\u001b[0m a\u001b[38;5;241m=\u001b[39m\u001b[38;5;28minput\u001b[39m(\u001b[38;5;124m\"\u001b[39m\u001b[38;5;124menter words\u001b[39m\u001b[38;5;124m\"\u001b[39m)\n\u001b[0;32m      2\u001b[0m \u001b[38;5;28;01mfor\u001b[39;00m i \u001b[38;5;129;01min\u001b[39;00m a:\n\u001b[1;32m----> 3\u001b[0m     b\u001b[38;5;241m=\u001b[39m\u001b[43ma\u001b[49m\u001b[38;5;241;43m.\u001b[39;49m\u001b[43msorted\u001b[49m(a\u001b[38;5;241m.\u001b[39msplit())\n\u001b[0;32m      4\u001b[0m \u001b[38;5;28mprint\u001b[39m(i)\n",
      "\u001b[1;31mAttributeError\u001b[0m: 'str' object has no attribute 'sorted'"
     ]
    }
   ],
   "source": [
    "a=input(\"enter words\")\n",
    "for i in a:\n",
    "    b=a.sorted(a.split())\n",
    "print(i)\n",
    "    "
   ]
  },
  {
   "cell_type": "code",
   "execution_count": 4,
   "id": "35d77406",
   "metadata": {},
   "outputs": [
    {
     "data": {
      "text/plain": [
       "['__add__',\n",
       " '__class__',\n",
       " '__contains__',\n",
       " '__delattr__',\n",
       " '__dir__',\n",
       " '__doc__',\n",
       " '__eq__',\n",
       " '__format__',\n",
       " '__ge__',\n",
       " '__getattribute__',\n",
       " '__getitem__',\n",
       " '__getnewargs__',\n",
       " '__gt__',\n",
       " '__hash__',\n",
       " '__init__',\n",
       " '__init_subclass__',\n",
       " '__iter__',\n",
       " '__le__',\n",
       " '__len__',\n",
       " '__lt__',\n",
       " '__mod__',\n",
       " '__mul__',\n",
       " '__ne__',\n",
       " '__new__',\n",
       " '__reduce__',\n",
       " '__reduce_ex__',\n",
       " '__repr__',\n",
       " '__rmod__',\n",
       " '__rmul__',\n",
       " '__setattr__',\n",
       " '__sizeof__',\n",
       " '__str__',\n",
       " '__subclasshook__',\n",
       " 'capitalize',\n",
       " 'casefold',\n",
       " 'center',\n",
       " 'count',\n",
       " 'encode',\n",
       " 'endswith',\n",
       " 'expandtabs',\n",
       " 'find',\n",
       " 'format',\n",
       " 'format_map',\n",
       " 'index',\n",
       " 'isalnum',\n",
       " 'isalpha',\n",
       " 'isascii',\n",
       " 'isdecimal',\n",
       " 'isdigit',\n",
       " 'isidentifier',\n",
       " 'islower',\n",
       " 'isnumeric',\n",
       " 'isprintable',\n",
       " 'isspace',\n",
       " 'istitle',\n",
       " 'isupper',\n",
       " 'join',\n",
       " 'ljust',\n",
       " 'lower',\n",
       " 'lstrip',\n",
       " 'maketrans',\n",
       " 'partition',\n",
       " 'removeprefix',\n",
       " 'removesuffix',\n",
       " 'replace',\n",
       " 'rfind',\n",
       " 'rindex',\n",
       " 'rjust',\n",
       " 'rpartition',\n",
       " 'rsplit',\n",
       " 'rstrip',\n",
       " 'split',\n",
       " 'splitlines',\n",
       " 'startswith',\n",
       " 'strip',\n",
       " 'swapcase',\n",
       " 'title',\n",
       " 'translate',\n",
       " 'upper',\n",
       " 'zfill']"
      ]
     },
     "execution_count": 4,
     "metadata": {},
     "output_type": "execute_result"
    }
   ],
   "source": [
    "dir(a)"
   ]
  },
  {
   "cell_type": "markdown",
   "id": "06ba1b36",
   "metadata": {},
   "source": [
    "WRITE A CODE THAT TAKES A STRING AND CALCULATES THE NUMBER OF UPPER AND LOWER CASE CHARACTERS IN IT"
   ]
  },
  {
   "cell_type": "markdown",
   "id": "dae7acdd",
   "metadata": {},
   "source": [
    "WRITE A CODE THAT TAKES A RANGE FROM 100 AND 900 AND ONLY PRINTS NUMBERS WHERE ALL DIGITS ARE EVEN"
   ]
  },
  {
   "cell_type": "code",
   "execution_count": null,
   "id": "8352d321",
   "metadata": {},
   "outputs": [],
   "source": []
  }
 ],
 "metadata": {
  "kernelspec": {
   "display_name": "Python 3 (ipykernel)",
   "language": "python",
   "name": "python3"
  },
  "language_info": {
   "codemirror_mode": {
    "name": "ipython",
    "version": 3
   },
   "file_extension": ".py",
   "mimetype": "text/x-python",
   "name": "python",
   "nbconvert_exporter": "python",
   "pygments_lexer": "ipython3",
   "version": "3.9.12"
  }
 },
 "nbformat": 4,
 "nbformat_minor": 5
}
