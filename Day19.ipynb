{
 "cells": [
  {
   "cell_type": "code",
   "execution_count": 66,
   "id": "f535e76a",
   "metadata": {},
   "outputs": [],
   "source": [
    "l3 = [10, 20, 30, 40, 50, 60]\n",
    "a = l3[0:4]"
   ]
  },
  {
   "cell_type": "code",
   "execution_count": 67,
   "id": "957e23db",
   "metadata": {},
   "outputs": [
    {
     "name": "stdout",
     "output_type": "stream",
     "text": [
      "[10, 20, 30, 40]\n"
     ]
    }
   ],
   "source": [
    "print(a)"
   ]
  },
  {
   "cell_type": "code",
   "execution_count": 87,
   "id": "dbbc7bb8",
   "metadata": {},
   "outputs": [
    {
     "name": "stdout",
     "output_type": "stream",
     "text": [
      "2+22+222+2222+22222+222222+2222222+22222222+222222222+2222222222+\n",
      "Sum of series is:  2469135800\n"
     ]
    }
   ],
   "source": [
    "n=10\n",
    "a=2\n",
    "b=0\n",
    "for i in range(0,n):\n",
    "    print(a,end=\"+\")\n",
    "    b+=a\n",
    "    a=a*10+2\n",
    "print(\"\\nSum of series is: \",b)"
   ]
  },
  {
   "cell_type": "code",
   "execution_count": null,
   "id": "58a398f3",
   "metadata": {},
   "outputs": [],
   "source": []
  },
  {
   "cell_type": "code",
   "execution_count": null,
   "id": "5f46790b",
   "metadata": {},
   "outputs": [],
   "source": []
  }
 ],
 "metadata": {
  "kernelspec": {
   "display_name": "Python 3 (ipykernel)",
   "language": "python",
   "name": "python3"
  },
  "language_info": {
   "codemirror_mode": {
    "name": "ipython",
    "version": 3
   },
   "file_extension": ".py",
   "mimetype": "text/x-python",
   "name": "python",
   "nbconvert_exporter": "python",
   "pygments_lexer": "ipython3",
   "version": "3.9.12"
  }
 },
 "nbformat": 4,
 "nbformat_minor": 5
}
