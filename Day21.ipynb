{
 "cells": [
  {
   "cell_type": "markdown",
   "id": "b68f0500",
   "metadata": {},
   "source": [
    "# Element Selection"
   ]
  },
  {
   "cell_type": "code",
   "execution_count": 2,
   "id": "cb6e7b61",
   "metadata": {},
   "outputs": [],
   "source": [
    "import numpy as np\n",
    "matrix=np.random.randint(1,10,(5,5))"
   ]
  },
  {
   "cell_type": "code",
   "execution_count": 3,
   "id": "b17a6234",
   "metadata": {},
   "outputs": [
    {
     "data": {
      "text/plain": [
       "array([[1, 5, 2, 6, 2],\n",
       "       [5, 7, 4, 5, 8],\n",
       "       [2, 5, 7, 2, 9],\n",
       "       [9, 3, 1, 5, 1],\n",
       "       [1, 9, 3, 7, 8]])"
      ]
     },
     "execution_count": 3,
     "metadata": {},
     "output_type": "execute_result"
    }
   ],
   "source": [
    "matrix"
   ]
  },
  {
   "cell_type": "code",
   "execution_count": 14,
   "id": "17a28c72",
   "metadata": {},
   "outputs": [
    {
     "data": {
      "text/plain": [
       "array([5, 6, 5, 7, 4, 5, 8, 5, 7, 9, 9, 5, 9, 7, 8])"
      ]
     },
     "execution_count": 14,
     "metadata": {},
     "output_type": "execute_result"
    }
   ],
   "source": [
    "new=matrix[matrix>3]\n",
    "new"
   ]
  },
  {
   "cell_type": "code",
   "execution_count": 7,
   "id": "4bbeaef9",
   "metadata": {},
   "outputs": [
    {
     "data": {
      "text/plain": [
       "dtype('int32')"
      ]
     },
     "execution_count": 7,
     "metadata": {},
     "output_type": "execute_result"
    }
   ],
   "source": [
    "new.dtype"
   ]
  },
  {
   "cell_type": "markdown",
   "id": "320492bd",
   "metadata": {},
   "source": [
    "# NumPy Arrays\n",
    " \n",
    "\n",
    "# python objects:\n",
    "\n",
    "high-level number objects: integers, floating point\n",
    "containers: lists (costless insertion and append), dictionaries (fast lookup)\n",
    " \n",
    "\n",
    "# Numpy provides:\n",
    "\n",
    "extension package to Python for multi-dimensional arrays\n",
    "closer to hardware (efficiency)\n",
    "designed for scientific computation (convenience)\n",
    "Also known as array oriented computing\n"
   ]
  },
  {
   "cell_type": "code",
   "execution_count": 21,
   "id": "5dc51a9e",
   "metadata": {},
   "outputs": [
    {
     "name": "stdout",
     "output_type": "stream",
     "text": [
      "[10 20 30 40]\n",
      "[ 1  2  3  4  5  6  7  8  9 10]\n"
     ]
    }
   ],
   "source": [
    "a=np.array([10,20,30,40])\n",
    "print(a)\n",
    "print(np.arange(1,10+1))"
   ]
  },
  {
   "cell_type": "code",
   "execution_count": 22,
   "id": "0d521948",
   "metadata": {
    "collapsed": true
   },
   "outputs": [
    {
     "data": {
      "text/plain": [
       "[1,\n",
       " 2,\n",
       " 3,\n",
       " 4,\n",
       " 5,\n",
       " 6,\n",
       " 7,\n",
       " 8,\n",
       " 9,\n",
       " 10,\n",
       " 11,\n",
       " 12,\n",
       " 13,\n",
       " 14,\n",
       " 15,\n",
       " 16,\n",
       " 17,\n",
       " 18,\n",
       " 19,\n",
       " 20,\n",
       " 21,\n",
       " 22,\n",
       " 23,\n",
       " 24,\n",
       " 25,\n",
       " 26,\n",
       " 27,\n",
       " 28,\n",
       " 29,\n",
       " 30,\n",
       " 31,\n",
       " 32,\n",
       " 33,\n",
       " 34,\n",
       " 35,\n",
       " 36,\n",
       " 37,\n",
       " 38,\n",
       " 39,\n",
       " 40,\n",
       " 41,\n",
       " 42,\n",
       " 43,\n",
       " 44,\n",
       " 45,\n",
       " 46,\n",
       " 47,\n",
       " 48,\n",
       " 49]"
      ]
     },
     "execution_count": 22,
     "metadata": {},
     "output_type": "execute_result"
    }
   ],
   "source": [
    "#list comp\n",
    "a=list(range(1,50))\n",
    "a"
   ]
  },
  {
   "cell_type": "code",
   "execution_count": 24,
   "id": "f5391475",
   "metadata": {},
   "outputs": [
    {
     "data": {
      "text/plain": [
       "[2,\n",
       " 4,\n",
       " 6,\n",
       " 8,\n",
       " 10,\n",
       " 12,\n",
       " 14,\n",
       " 16,\n",
       " 18,\n",
       " 20,\n",
       " 22,\n",
       " 24,\n",
       " 26,\n",
       " 28,\n",
       " 30,\n",
       " 32,\n",
       " 34,\n",
       " 36,\n",
       " 38,\n",
       " 40,\n",
       " 42,\n",
       " 44,\n",
       " 46,\n",
       " 48]"
      ]
     },
     "execution_count": 24,
     "metadata": {},
     "output_type": "execute_result"
    }
   ],
   "source": [
    "ans=[]\n",
    "for i in a:\n",
    "    if i%2==0:\n",
    "        \n",
    "        ans.append(i)\n",
    "ans"
   ]
  },
  {
   "cell_type": "code",
   "execution_count": 30,
   "id": "dafad8a3",
   "metadata": {},
   "outputs": [
    {
     "data": {
      "text/plain": [
       "[2, 4, 6, 8, 10]"
      ]
     },
     "execution_count": 30,
     "metadata": {},
     "output_type": "execute_result"
    }
   ],
   "source": [
    "[i for i in range(1,10+1) if i%2==0]\n"
   ]
  },
  {
   "cell_type": "code",
   "execution_count": 33,
   "id": "a7458111",
   "metadata": {},
   "outputs": [
    {
     "name": "stdout",
     "output_type": "stream",
     "text": [
      "2.71 µs ± 9.05 ns per loop (mean ± std. dev. of 7 runs, 100,000 loops each)\n"
     ]
    }
   ],
   "source": [
    "%timeit b=[i**2 for i in range(1,10)]"
   ]
  },
  {
   "cell_type": "code",
   "execution_count": 34,
   "id": "3bef605a",
   "metadata": {},
   "outputs": [
    {
     "data": {
      "text/plain": [
       "[1, 4, 9, 16, 25, 36, 49, 64, 81]"
      ]
     },
     "execution_count": 34,
     "metadata": {},
     "output_type": "execute_result"
    }
   ],
   "source": [
    "b"
   ]
  },
  {
   "cell_type": "markdown",
   "id": "e82a62a8",
   "metadata": {},
   "source": [
    "# creating arrays\n"
   ]
  },
  {
   "cell_type": "code",
   "execution_count": 35,
   "id": "2b3051ab",
   "metadata": {},
   "outputs": [],
   "source": [
    "a=np.array(range(1,10+1))"
   ]
  },
  {
   "cell_type": "code",
   "execution_count": 36,
   "id": "3efb72ba",
   "metadata": {},
   "outputs": [
    {
     "data": {
      "text/plain": [
       "array([ 1,  2,  3,  4,  5,  6,  7,  8,  9, 10])"
      ]
     },
     "execution_count": 36,
     "metadata": {},
     "output_type": "execute_result"
    }
   ],
   "source": [
    "a"
   ]
  },
  {
   "cell_type": "code",
   "execution_count": 39,
   "id": "65a52e43",
   "metadata": {},
   "outputs": [],
   "source": [
    "b=np.array(([range(1,10+1)],[range(11,20+1)]))"
   ]
  },
  {
   "cell_type": "code",
   "execution_count": 40,
   "id": "4108fd1c",
   "metadata": {},
   "outputs": [
    {
     "data": {
      "text/plain": [
       "array([[[ 1,  2,  3,  4,  5,  6,  7,  8,  9, 10]],\n",
       "\n",
       "       [[11, 12, 13, 14, 15, 16, 17, 18, 19, 20]]])"
      ]
     },
     "execution_count": 40,
     "metadata": {},
     "output_type": "execute_result"
    }
   ],
   "source": [
    "b"
   ]
  },
  {
   "cell_type": "code",
   "execution_count": 45,
   "id": "7eb2d260",
   "metadata": {},
   "outputs": [
    {
     "data": {
      "text/plain": [
       "2"
      ]
     },
     "execution_count": 45,
     "metadata": {},
     "output_type": "execute_result"
    }
   ],
   "source": [
    "len(b)"
   ]
  },
  {
   "cell_type": "code",
   "execution_count": 56,
   "id": "82c6a4a7",
   "metadata": {},
   "outputs": [],
   "source": [
    "a=a.reshape(2,5)"
   ]
  },
  {
   "cell_type": "code",
   "execution_count": 57,
   "id": "084b1818",
   "metadata": {},
   "outputs": [
    {
     "data": {
      "text/plain": [
       "(2, 5)"
      ]
     },
     "execution_count": 57,
     "metadata": {},
     "output_type": "execute_result"
    }
   ],
   "source": [
    "a.shape"
   ]
  },
  {
   "cell_type": "code",
   "execution_count": 58,
   "id": "6825210f",
   "metadata": {},
   "outputs": [
    {
     "data": {
      "text/plain": [
       "10"
      ]
     },
     "execution_count": 58,
     "metadata": {},
     "output_type": "execute_result"
    }
   ],
   "source": [
    "a.size"
   ]
  },
  {
   "cell_type": "code",
   "execution_count": 59,
   "id": "bb541213",
   "metadata": {},
   "outputs": [
    {
     "data": {
      "text/plain": [
       "2"
      ]
     },
     "execution_count": 59,
     "metadata": {},
     "output_type": "execute_result"
    }
   ],
   "source": [
    "a.ndim"
   ]
  },
  {
   "cell_type": "code",
   "execution_count": 60,
   "id": "b6395cf3",
   "metadata": {},
   "outputs": [],
   "source": [
    "#using arrange function\n",
    "#arange\n",
    "a=np.arange(20)"
   ]
  },
  {
   "cell_type": "code",
   "execution_count": 61,
   "id": "e8f899e0",
   "metadata": {},
   "outputs": [
    {
     "data": {
      "text/plain": [
       "array([ 0,  1,  2,  3,  4,  5,  6,  7,  8,  9, 10, 11, 12, 13, 14, 15, 16,\n",
       "       17, 18, 19])"
      ]
     },
     "execution_count": 61,
     "metadata": {},
     "output_type": "execute_result"
    }
   ],
   "source": [
    "a"
   ]
  },
  {
   "cell_type": "code",
   "execution_count": 69,
   "id": "ef2f708a",
   "metadata": {},
   "outputs": [],
   "source": [
    "#using linspace\n",
    "a=np.linspace(0,1,2)#start,end,number of points"
   ]
  },
  {
   "cell_type": "code",
   "execution_count": 70,
   "id": "5b8d4316",
   "metadata": {},
   "outputs": [
    {
     "data": {
      "text/plain": [
       "array([0., 1.])"
      ]
     },
     "execution_count": 70,
     "metadata": {},
     "output_type": "execute_result"
    }
   ],
   "source": [
    "a"
   ]
  },
  {
   "cell_type": "code",
   "execution_count": 74,
   "id": "44a98860",
   "metadata": {},
   "outputs": [],
   "source": [
    "#creating array using diag function\n",
    "a=np.diag([10,20,30,40,50])"
   ]
  },
  {
   "cell_type": "code",
   "execution_count": 75,
   "id": "e2e21e7d",
   "metadata": {},
   "outputs": [
    {
     "data": {
      "text/plain": [
       "array([[10,  0,  0,  0,  0],\n",
       "       [ 0, 20,  0,  0,  0],\n",
       "       [ 0,  0, 30,  0,  0],\n",
       "       [ 0,  0,  0, 40,  0],\n",
       "       [ 0,  0,  0,  0, 50]])"
      ]
     },
     "execution_count": 75,
     "metadata": {},
     "output_type": "execute_result"
    }
   ],
   "source": [
    "\n",
    "a"
   ]
  },
  {
   "cell_type": "code",
   "execution_count": 82,
   "id": "0e706e18",
   "metadata": {},
   "outputs": [],
   "source": [
    "#CREAting array using random\n",
    "#create an array of the given shape and populate it with random sampples from a uniform distribution\n",
    "a=np.random.rand(4)"
   ]
  },
  {
   "cell_type": "code",
   "execution_count": 83,
   "id": "2ec23799",
   "metadata": {},
   "outputs": [
    {
     "data": {
      "text/plain": [
       "array([0.14467726, 0.74811605, 0.85046164, 0.9981189 ])"
      ]
     },
     "execution_count": 83,
     "metadata": {},
     "output_type": "execute_result"
    }
   ],
   "source": [
    "a"
   ]
  },
  {
   "cell_type": "code",
   "execution_count": 95,
   "id": "fc7ca098",
   "metadata": {},
   "outputs": [],
   "source": [
    "a=np.random.randn(10)"
   ]
  },
  {
   "cell_type": "code",
   "execution_count": 96,
   "id": "3c1673d0",
   "metadata": {},
   "outputs": [
    {
     "data": {
      "text/plain": [
       "array([ 0.21191006, -0.26813617, -1.69401887, -1.48537487,  0.02486266,\n",
       "       -1.11032095,  0.01075645, -1.50502986, -0.64341705, -0.67012997])"
      ]
     },
     "execution_count": 96,
     "metadata": {},
     "output_type": "execute_result"
    }
   ],
   "source": [
    "a"
   ]
  },
  {
   "cell_type": "code",
   "execution_count": null,
   "id": "bf50c739",
   "metadata": {},
   "outputs": [],
   "source": []
  }
 ],
 "metadata": {
  "kernelspec": {
   "display_name": "Python 3 (ipykernel)",
   "language": "python",
   "name": "python3"
  },
  "language_info": {
   "codemirror_mode": {
    "name": "ipython",
    "version": 3
   },
   "file_extension": ".py",
   "mimetype": "text/x-python",
   "name": "python",
   "nbconvert_exporter": "python",
   "pygments_lexer": "ipython3",
   "version": "3.9.12"
  }
 },
 "nbformat": 4,
 "nbformat_minor": 5
}
