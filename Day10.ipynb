{
 "cells": [
  {
   "cell_type": "markdown",
   "id": "36b38e50",
   "metadata": {},
   "source": [
    "*LIST COMPREHENSION\n",
    "List comprehension is an elegant tool to transform one list into another list.\n",
    "Instead of using loops and append, list comprehensions are used to iterate over a list, condition its elements and include them in a new list."
   ]
  },
  {
   "cell_type": "code",
   "execution_count": null,
   "id": "9194a9c2",
   "metadata": {},
   "outputs": [],
   "source": [
    "a=[1,2,3,4,5,6,7,8,9,10]\n",
    "z=[]\n",
    "for i  in a:\n",
    "    i\n",
    "    z.append(i**2)\n",
    "    print(i)"
   ]
  },
  {
   "cell_type": "code",
   "execution_count": null,
   "id": "45ef0b50",
   "metadata": {},
   "outputs": [],
   "source": [
    "a=[1,2,3,4,5]\n",
    "b=[ i**2 for i in a]\n",
    "b"
   ]
  },
  {
   "cell_type": "code",
   "execution_count": null,
   "id": "b2e5d1d0",
   "metadata": {},
   "outputs": [],
   "source": [
    "a=[i**3 for i in a]\n",
    "a"
   ]
  },
  {
   "cell_type": "code",
   "execution_count": null,
   "id": "a1382a66",
   "metadata": {},
   "outputs": [],
   "source": [
    "[i for i in a if i%2==0] "
   ]
  },
  {
   "cell_type": "code",
   "execution_count": null,
   "id": "3cb9f78e",
   "metadata": {},
   "outputs": [],
   "source": [
    "temp_c=[25,3,5,60]\n",
    "temp_f=[(9/5*i+32) for i in temp_c]    \n",
    "temp_f\n"
   ]
  },
  {
   "cell_type": "code",
   "execution_count": null,
   "id": "ba0f8dbc",
   "metadata": {},
   "outputs": [],
   "source": [
    "my_string='i a becoming python master in 40 days'\n",
    "number=[int(i) for i in my_string if i.isdigit() ]\n",
    "print(number)"
   ]
  },
  {
   "cell_type": "markdown",
   "id": "0fbf8f8f",
   "metadata": {},
   "source": []
  },
  {
   "cell_type": "code",
   "execution_count": null,
   "id": "774ba8d8",
   "metadata": {},
   "outputs": [],
   "source": [
    "dir(my_string)"
   ]
  },
  {
   "cell_type": "markdown",
   "id": "57a3b8b5",
   "metadata": {},
   "source": [
    "While Loops"
   ]
  },
  {
   "cell_type": "code",
   "execution_count": null,
   "id": "8406e4ad",
   "metadata": {},
   "outputs": [],
   "source": [
    "i=0\n",
    "while i<=20:\n",
    "    print(i)\n",
    "    i=i+1"
   ]
  },
  {
   "cell_type": "code",
   "execution_count": null,
   "id": "f75dfb97",
   "metadata": {},
   "outputs": [],
   "source": [
    "#infinite loop\n",
    "i=0\n",
    "while True:\n",
    "    print(i)\n",
    "    i+=1\n",
    "    if i==15+1:\n",
    "        break\n",
    "    "
   ]
  },
  {
   "cell_type": "code",
   "execution_count": null,
   "id": "ab7cf9c9",
   "metadata": {},
   "outputs": [],
   "source": [
    "for i in range(3,21):\n",
    "    print(i)"
   ]
  },
  {
   "cell_type": "code",
   "execution_count": null,
   "id": "647d91e2",
   "metadata": {},
   "outputs": [],
   "source": [
    "i=3\n",
    "while True:\n",
    "    print(i)\n",
    "    i=i+1\n",
    "    if i>=21:\n",
    "        break"
   ]
  },
  {
   "cell_type": "markdown",
   "id": "429724b5",
   "metadata": {},
   "source": [
    "Q.WRITE A CODE THAT DISPLAYS ALL NUMBERS FROM 1 TO 20 USING WHILE AND FOR LOOPS"
   ]
  },
  {
   "cell_type": "code",
   "execution_count": null,
   "id": "873f3193",
   "metadata": {},
   "outputs": [],
   "source": [
    "for i in range(1,20+1):\n",
    "    print(i)"
   ]
  },
  {
   "cell_type": "code",
   "execution_count": null,
   "id": "3399174f",
   "metadata": {},
   "outputs": [],
   "source": [
    "i=1\n",
    "while i<=20:\n",
    "    print(i)\n",
    "    i=i+1"
   ]
  },
  {
   "cell_type": "code",
   "execution_count": 1,
   "id": "d07d10c7",
   "metadata": {},
   "outputs": [
    {
     "name": "stdout",
     "output_type": "stream",
     "text": [
      "1 1 1\n",
      "2 4 8\n",
      "3 9 27\n",
      "4 16 64\n",
      "5 25 125\n",
      "6 36 216\n",
      "7 49 343\n",
      "8 64 512\n",
      "9 81 729\n",
      "10 100 1000\n"
     ]
    }
   ],
   "source": [
    "\n",
    "for i in range(1,10+1):\n",
    "    print(i,(i**2),(i**3))\n",
    "        \n",
    "   "
   ]
  },
  {
   "cell_type": "code",
   "execution_count": null,
   "id": "ef0f2e65",
   "metadata": {},
   "outputs": [],
   "source": [
    "a=[1,2,3,4,5,6]\n",
    "b=[1,2,3,4,5,6]"
   ]
  },
  {
   "cell_type": "code",
   "execution_count": null,
   "id": "5469f3c5",
   "metadata": {},
   "outputs": [],
   "source": [
    "dir(a)"
   ]
  },
  {
   "cell_type": "code",
   "execution_count": null,
   "id": "fb242d29",
   "metadata": {},
   "outputs": [],
   "source": [
    "import random\n",
    "ask=True\n",
    "while ask:\n",
    "   \n",
    "    print('dice rolled',random.randint(1,6),',',random.randint(1,6))\n",
    "    print(\"do u want to roll again? Y/N\")\n",
    "    ask='Y'in str(input())\n",
    "    print('dice rolled',random.randint(1,6),',',random.randint(1,6))\n",
    "   \n"
   ]
  },
  {
   "cell_type": "code",
   "execution_count": null,
   "id": "80209ff5",
   "metadata": {},
   "outputs": [],
   "source": [
    "import random\n",
    "ask='y'\n",
    "while ask=='y':\n",
    "    print(\"rolling dice please wait...\")\n",
    "    print('dice rolled',random.randint(1,6),',',random.randint(1,6))\n",
    "    ask=str(input('do u want to roll again'))"
   ]
  },
  {
   "cell_type": "code",
   "execution_count": null,
   "id": "9773a7d9",
   "metadata": {},
   "outputs": [],
   "source": [
    "a=int(input(\"enter a number:\"))\n",
    "for i in range(a,12+1):\n",
    "    for j in range(1,12+1):\n",
    "        print('{}*{}={}'.format(i,j,i*j))\n",
    "    break\n",
    "    "
   ]
  },
  {
   "cell_type": "code",
   "execution_count": null,
   "id": "49667251",
   "metadata": {},
   "outputs": [],
   "source": []
  }
 ],
 "metadata": {
  "kernelspec": {
   "display_name": "Python 3 (ipykernel)",
   "language": "python",
   "name": "python3"
  },
  "language_info": {
   "codemirror_mode": {
    "name": "ipython",
    "version": 3
   },
   "file_extension": ".py",
   "mimetype": "text/x-python",
   "name": "python",
   "nbconvert_exporter": "python",
   "pygments_lexer": "ipython3",
   "version": "3.9.12"
  }
 },
 "nbformat": 4,
 "nbformat_minor": 5
}
